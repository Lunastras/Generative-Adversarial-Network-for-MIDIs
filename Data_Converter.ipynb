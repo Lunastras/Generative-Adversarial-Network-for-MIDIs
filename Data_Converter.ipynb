{
 "cells": [
  {
   "cell_type": "code",
   "execution_count": 1,
   "metadata": {},
   "outputs": [],
   "source": [
    "import numpy as np\n",
    "import glob\n",
    "import mido as md\n",
    "import midi\n",
    "\n",
    "datapath = \"midis/**/*.mid\"\n",
    "#datapath = \"testmidis/*.mid\"\n",
    "\n",
    "sequence_length = 150\n",
    "\n",
    "#values used for normalising the data\n",
    "biggest_note = 0 \n",
    "biggest_time = 0\n",
    "smallest_note = 9999\n",
    "smallest_time = 9999\n",
    "\n",
    "#standard deviation\n",
    "std_time = 0\n",
    "std_note = 0"
   ]
  },
  {
   "cell_type": "code",
   "execution_count": 2,
   "metadata": {},
   "outputs": [],
   "source": [
    "notes = []\n",
    "\n",
    "for file in glob.glob(datapath):\n",
    "    \n",
    "    song = midi.read_midifile(file)\n",
    "    song.make_ticks_abs()\n",
    "    \n",
    "    #flatten the song's tracks\n",
    "    raw_notes = []\n",
    "    for track in song:\n",
    "        for note in track: \n",
    "            \n",
    "            if(note.name == 'Note On'):\n",
    "                if((note.velocity != 0)):\n",
    "                    raw_notes.append(note) \n",
    "                    \n",
    "            if(note.name == 'Set Tempo'):\n",
    "                raw_notes.append(note)  \n",
    "                \n",
    "    for i in range(0, len(raw_notes) - 1):\n",
    "        for j in range(i + 1, len(raw_notes)):\n",
    "            if raw_notes[j].tick < raw_notes[i].tick:\n",
    "                aux = raw_notes[j]\n",
    "                raw_notes[j] = raw_notes[i]\n",
    "                raw_notes[i] = aux   \n",
    "                \n",
    "    num_notes = 0\n",
    "    processed_notes = []\n",
    "    for note in raw_notes:\n",
    "        if note.name == 'Note On':\n",
    "            value = []\n",
    "            num_notes += 1\n",
    "            value.append(note.pitch)\n",
    "            value.append(note.tick)\n",
    "            processed_notes.append(value)\n",
    "            \n",
    "    processed_notes = np.reshape(processed_notes, (num_notes, 2))\n",
    "    \n",
    "    #convert time of notes to delay\n",
    "    current_time = 0\n",
    "    \n",
    "    for note in processed_notes:\n",
    "        note[1] -= current_time\n",
    "        current_time += note[1]\n",
    "        \n",
    "        if note[0] > biggest_note:\n",
    "            biggest_note = note[0]\n",
    "        elif note[0] < smallest_note:\n",
    "            smallest_note =  note[0]\n",
    "                       \n",
    "        if note[1] > biggest_time:\n",
    "            biggest_time = note[1]\n",
    "        elif note[1] < smallest_time:\n",
    "            smallest_time = note[1] \n",
    "            \n",
    "        notes.append(note)\n",
    "\n",
    "notes = np.reshape(notes, (len(notes), 2)).astype(float) \n",
    "std_time = biggest_time - smallest_time\n",
    "std_note = biggest_note - smallest_note"
   ]
  },
  {
   "cell_type": "raw",
   "metadata": {},
   "source": [
    "print(notes.shape)\n",
    "for note in notes:\n",
    "    print(note)"
   ]
  },
  {
   "cell_type": "code",
   "execution_count": null,
   "metadata": {},
   "outputs": [],
   "source": [
    "network_input = []\n",
    "network_output = []\n",
    "\n",
    "#normalising the data\n",
    "for i in range(0, len(notes), 1):\n",
    "    notes[i][0] = (notes[i][0] - smallest_note) / std_note\n",
    "    notes[i][1] = (notes[i][1] - smallest_time) / std_time\n",
    "    #print(notes[i])\n",
    "    \n",
    "for i in range(0, len(notes) - sequence_length, 1):\n",
    "    sequence_in = notes[i : i + sequence_length]\n",
    "    sequence_out = notes[i + sequence_length]\n",
    "    network_input.append(sequence_in)\n",
    "    network_output.append(sequence_out)\n",
    "    \n",
    "n_patterns = len(network_input)\n",
    "\n",
    "network_input = np.reshape(network_input, (n_patterns, sequence_length, 2))\n",
    "network_output = np.reshape(network_output, (n_patterns, 2))"
   ]
  },
  {
   "cell_type": "code",
   "execution_count": 5,
   "metadata": {},
   "outputs": [],
   "source": [
    "#here we will store the normalizing values for the data\n",
    "#0 - biggest_note\n",
    "#1 - smallest_note\n",
    "#2 - std_note\n",
    "#3 - biggest_time\n",
    "#4 - smallest_time\n",
    "#5 - std_time\n",
    "normalizing_values = np.array([  biggest_note\n",
    "                               , smallest_note\n",
    "                               , std_note\n",
    "                               , biggest_time\n",
    "                               , smallest_time\n",
    "                               , std_time ])"
   ]
  },
  {
   "cell_type": "code",
   "execution_count": 6,
   "metadata": {},
   "outputs": [],
   "source": [
    "np.save(\"inputs_\" + str(sequence_length) + \".npy\", network_input)\n",
    "np.save(\"labels_\" + str(sequence_length) + \".npy\", network_output)\n",
    "np.save(\"normalization_values.npy\", normalizing_values)"
   ]
  },
  {
   "cell_type": "code",
   "execution_count": 2,
   "metadata": {},
   "outputs": [],
   "source": [
    "network_input = np.load(\"inputs_150.npy\")"
   ]
  },
  {
   "cell_type": "code",
   "execution_count": 4,
   "metadata": {},
   "outputs": [
    {
     "data": {
      "text/plain": [
       "(709935, 150, 2)"
      ]
     },
     "execution_count": 4,
     "metadata": {},
     "output_type": "execute_result"
    }
   ],
   "source": [
    "network_input.shape"
   ]
  },
  {
   "cell_type": "code",
   "execution_count": null,
   "metadata": {},
   "outputs": [],
   "source": []
  }
 ],
 "metadata": {
  "kernelspec": {
   "display_name": "Python 3",
   "language": "python",
   "name": "python3"
  },
  "language_info": {
   "codemirror_mode": {
    "name": "ipython",
    "version": 3
   },
   "file_extension": ".py",
   "mimetype": "text/x-python",
   "name": "python",
   "nbconvert_exporter": "python",
   "pygments_lexer": "ipython3",
   "version": "3.8.5"
  }
 },
 "nbformat": 4,
 "nbformat_minor": 4
}
